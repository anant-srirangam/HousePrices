{
 "cells": [
  {
   "cell_type": "code",
   "execution_count": 2,
   "metadata": {},
   "outputs": [],
   "source": [
    "reset -fs"
   ]
  },
  {
   "cell_type": "markdown",
   "metadata": {},
   "source": [
    "Exploring the Dataset - Houseprice and factors that might affect it\n",
    "  ------"
   ]
  },
  {
   "cell_type": "markdown",
   "metadata": {},
   "source": [
    "![House](House1.jpg)"
   ]
  },
  {
   "cell_type": "markdown",
   "metadata": {},
   "source": [
    "My spouse and I live in San Jose, which is 2+hours commute to Galvanize, SF each way daily. I have been creating business cases to my spouse to move to SF for a while now, which usually results in this reaction..."
   ]
  },
  {
   "cell_type": "markdown",
   "metadata": {},
   "source": [
    "![bird](spouse_fowl.jpg)"
   ]
  },
  {
   "cell_type": "markdown",
   "metadata": {},
   "source": [
    "Or worst still..."
   ]
  },
  {
   "cell_type": "markdown",
   "metadata": {},
   "source": [
    "![](angry_dog.jpg)"
   ]
  },
  {
   "cell_type": "markdown",
   "metadata": {},
   "source": [
    "The reason being we want to own in SF area instead of renting.\n",
    "\n",
    "I had always sold SF on its culture and lifestyle but never really analyzed the house prices based on the criteria that is important to us, so when I got this dataset I decided to take matters in my own hands."
   ]
  },
  {
   "cell_type": "markdown",
   "metadata": {},
   "source": [
    "\"If a little knowledge is dangerous, where is the man who has so much as to be out of danger?\"\n",
    "-Thomas Huxley.\n",
    "\n",
    "https://www.brainyquote.com/quotes/quotes/t/thomashuxl118368.html"
   ]
  },
  {
   "cell_type": "markdown",
   "metadata": {},
   "source": [
    "Subjective and Objective Data Analysis \n",
    "------"
   ]
  },
  {
   "cell_type": "markdown",
   "metadata": {},
   "source": [
    "I will share the objective analysis below.\n",
    "\n",
    "Wanted to share the subjective one here. I took all the variables in this dataset, created an excel spreadhseet of it, sat down with my spouse, to identify the criteria that are important in a house to us, and noted them.\n",
    "\n",
    "Next, I conducted the objective analysis below, to determine the factors/variables that affect saleprice of houses, and delve a bit more into details.\n",
    "\n",
    "The results surprised me.\n",
    "--"
   ]
  },
  {
   "cell_type": "markdown",
   "metadata": {},
   "source": [
    "The project work in this kernel, that uses a dataset on houseprices, so I'm sharing how I applied some of the  data analysis principles to this problem.\n",
    "The mindset and approach I have adopted for my analysis is as follows:\n",
    "\n",
    "1) Understand the problem. We will look at each variable and perform analysis about their meaning and importance for this problem.\n",
    "\n",
    "2) Univariable study. We'll just focus on the dependent variable ('SalePrice') and try to know a little bit more about it.\n",
    "\n",
    "3) Bivariate and Multivariate study. We will analyze how the dependent variable and independent variables relate.\n",
    "\n",
    "4) Create Probability scenarios with dataset like conditional probability, Bayes theorem, probability distributions, etc.\n",
    "\n",
    "5) Exploring hypotheses  "
   ]
  },
  {
   "cell_type": "markdown",
   "metadata": {},
   "source": [
    "There is also a paper that analyzed this data set which I found very insightful in building this project:\n",
    "\n",
    "https://ww2.amstat.org/publications/jse/v19n3/decock.pdf"
   ]
  },
  {
   "cell_type": "markdown",
   "metadata": {},
   "source": [
    "Importing Python Libraries needed for project\n",
    "------"
   ]
  },
  {
   "cell_type": "code",
   "execution_count": null,
   "metadata": {},
   "outputs": [],
   "source": []
  }
 ],
 "metadata": {
  "kernelspec": {
   "display_name": "Python 2",
   "language": "python",
   "name": "python2"
  },
  "language_info": {
   "codemirror_mode": {
    "name": "ipython",
    "version": 2
   },
   "file_extension": ".py",
   "mimetype": "text/x-python",
   "name": "python",
   "nbconvert_exporter": "python",
   "pygments_lexer": "ipython2",
   "version": "2.7.15"
  }
 },
 "nbformat": 4,
 "nbformat_minor": 2
}
